{
 "cells": [
  {
   "cell_type": "code",
   "execution_count": 13,
   "id": "fbc4bfbc-7f87-4050-9e51-a536da10b804",
   "metadata": {},
   "outputs": [],
   "source": [
    "import numpy as np \n"
   ]
  },
  {
   "cell_type": "markdown",
   "id": "0bc506d0-f983-4a56-935a-e30181d53e71",
   "metadata": {},
   "source": []
  },
  {
   "cell_type": "code",
   "execution_count": 3,
   "id": "79597cad-075d-4492-aad3-fe7a5971be71",
   "metadata": {},
   "outputs": [],
   "source": [
    "def GetAP(DRQ,Q,K):\n",
    "    P=np.zeros(Q)\n",
    "    for q in range (Q):\n",
    "        P[q]=sum(DRQ[q,:])/K\n",
    "    AP=sum(P)/Q\n",
    "    return AP"
   ]
  },
  {
   "cell_type": "markdown",
   "id": "65ee2536-e71c-4cd7-9cbb-c6ec927902d7",
   "metadata": {},
   "source": []
  },
  {
   "cell_type": "code",
   "execution_count": 10,
   "id": "b9d37065-c997-4dd2-a4bb-d6c745ade46a",
   "metadata": {},
   "outputs": [],
   "source": [
    "def GetAR(DRQ,Q,Rq):\n",
    "    R=np.zeros(Q)\n",
    "    for q in range (Q):\n",
    "        R[q]=sum(DRQ[q,:])/Rq\n",
    "    AR=sum(R)/Q\n",
    "    return AR"
   ]
  },
  {
   "cell_type": "markdown",
   "id": "d08dbb10-0966-4889-96a8-3051bd22cdb5",
   "metadata": {},
   "source": []
  },
  {
   "cell_type": "code",
   "execution_count": 11,
   "id": "9ea6ef63-83c2-4333-9126-c22c2c13ec2c",
   "metadata": {},
   "outputs": [],
   "source": [
    "def GetMAP(DRQ,Q,Rq,K):\n",
    "    AP=np.zeros(Q)\n",
    "    for q in range (Q):\n",
    "        sumAP=0\n",
    "        for k in range (K):\n",
    "            if DRQ[q, k] > 0:\n",
    "                sumAP = sumAP+(sum(DRQ[q,:k+1])/(k+1))\n",
    "        AP[q]=sumAP/Rq\n",
    "    MAP=sum(AP)/Q\n",
    "    return MAP"
   ]
  },
  {
   "cell_type": "code",
   "execution_count": 19,
   "id": "b5185611-c97d-4087-8b30-7dbe25e0f45e",
   "metadata": {},
   "outputs": [],
   "source": [
    "D=np.ones((10,12))"
   ]
  },
  {
   "cell_type": "code",
   "execution_count": 26,
   "id": "e9c41e42-1381-4e2f-b939-e3013bf6dbdb",
   "metadata": {},
   "outputs": [],
   "source": [
    "MAP=GetMAP(D,10,100,12)"
   ]
  },
  {
   "cell_type": "code",
   "execution_count": 27,
   "id": "dd4c4047-4f64-4cee-ba08-0d1c91d74950",
   "metadata": {},
   "outputs": [
    {
     "data": {
      "text/plain": [
       "0.12000000000000002"
      ]
     },
     "execution_count": 27,
     "metadata": {},
     "output_type": "execute_result"
    }
   ],
   "source": [
    "MAP"
   ]
  },
  {
   "cell_type": "code",
   "execution_count": 3,
   "id": "d49e96ce-4920-4cb1-9389-852405a3c4c1",
   "metadata": {},
   "outputs": [],
   "source": [
    "def GetANMRR(DRQ,Q,Rq,K,mx):\n",
    "    NMRR=np.zeros(Q)\n",
    "    Kq=min(4*Rq,2*mx)\n",
    "    for q in range (Q):\n",
    "        c=0\n",
    "        k=1\n",
    "        AVR=0.0\n",
    "        while c < Rq:\n",
    "            if k <= Kq:\n",
    "                if k <= K:\n",
    "                    if DRQ[q,k-1] > 0:\n",
    "                        AVR=AVR+(k/Rq)\n",
    "                        c=c+1\n",
    "                else:\n",
    "                    AVR=AVR+(k/Rq)\n",
    "                    c=c+1\n",
    "            else:\n",
    "                AVR=AVR+((1.25*Kq)/Rq)\n",
    "                c=c+1\n",
    "            k=k+1\n",
    "        MRR=AVR-(0.5*(1+Rq))\n",
    "        NMRR[q]=MRR/((1.25*Kq)-(0.5*(1+Rq)))\n",
    "    ANMRR=sum(NMRR)/Q\n",
    "    return ANMRR"
   ]
  },
  {
   "cell_type": "code",
   "execution_count": null,
   "id": "14ae1cbb-33d6-49a9-b1db-5315139d2e67",
   "metadata": {},
   "outputs": [],
   "source": []
  }
 ],
 "metadata": {
  "kernelspec": {
   "display_name": "Python 3 (ipykernel)",
   "language": "python",
   "name": "python3"
  },
  "language_info": {
   "codemirror_mode": {
    "name": "ipython",
    "version": 3
   },
   "file_extension": ".py",
   "mimetype": "text/x-python",
   "name": "python",
   "nbconvert_exporter": "python",
   "pygments_lexer": "ipython3",
   "version": "3.9.12"
  }
 },
 "nbformat": 4,
 "nbformat_minor": 5
}
