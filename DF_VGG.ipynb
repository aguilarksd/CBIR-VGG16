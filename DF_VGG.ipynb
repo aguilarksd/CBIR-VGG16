{
 "cells": [
  {
   "cell_type": "code",
   "execution_count": null,
   "id": "50d33952-9db5-4989-bab5-1136ae74dcd0",
   "metadata": {},
   "outputs": [],
   "source": [
    "import sys\n",
    "import cv2\n",
    "import numpy as np \n",
    "import IPython\n",
    "import os"
   ]
  },
  {
   "cell_type": "code",
   "execution_count": 5,
   "id": "56664639-1857-4cb4-9229-942db00ace60",
   "metadata": {},
   "outputs": [],
   "source": [
    "def Get_DF_VGG16(file,fl):\n",
    "    vgg16 = cv2.dnn.readNetFromCaffe(\"bvlc_VGG16.deploy.prototxt\", \"VGG_16_layers.caffemodel\") \n",
    "    vector = calcular_deep_feature_vgg_de_una_imagen(vgg16, file,fl)\n",
    "    return vector"
   ]
  },
  {
   "cell_type": "code",
   "execution_count": 4,
   "id": "5c2556e9-4f22-467e-8784-d746908aac96",
   "metadata": {},
   "outputs": [],
   "source": [
    "def calcular_deep_feature_vgg_de_una_imagen(net, image_filename,fl):\n",
    "    img_color= cv2.imread(image_filename, cv2. IMREAD_COLOR)\n",
    "    if img_color is None:\n",
    "        return\n",
    "    entrada = cv2.dnn.blobFromImage(img_color, scalefactor=1, size=(224,224), mean=(104,117,124), swapRB=False, crop=True)\n",
    "    net.setInput(entrada)\n",
    "    salida=net.forward(fl)\n",
    "    #salida=net.forward(\"fc7\")\n",
    "    descriptor= salida[0] \n",
    "    #display(IPython.display.Image(filename=image_filename, height=200, width=200))\n",
    "    #print(\"{} (dims={}, norma={}: {}\".format(image_filename, len(descriptor), np.linalg.norm(descriptor), descriptor))\n",
    "    #normalizer a largo 1\n",
    "    descriptor_norm=descriptor / np.linalg.norm(descriptor)\n",
    "    #print (\"{} (dims={}, norma={}: {}\".format(image_filename, len(descriptor_norm), np.linalg.norm(descriptor_norm), descriptor))\n",
    "    return descriptor_norm"
   ]
  },
  {
   "cell_type": "code",
   "execution_count": null,
   "id": "e34e09e9-4f12-4563-8a6f-16b3ec229741",
   "metadata": {},
   "outputs": [],
   "source": []
  }
 ],
 "metadata": {
  "kernelspec": {
   "display_name": "Python 3 (ipykernel)",
   "language": "python",
   "name": "python3"
  },
  "language_info": {
   "codemirror_mode": {
    "name": "ipython",
    "version": 3
   },
   "file_extension": ".py",
   "mimetype": "text/x-python",
   "name": "python",
   "nbconvert_exporter": "python",
   "pygments_lexer": "ipython3",
   "version": "3.9.12"
  }
 },
 "nbformat": 4,
 "nbformat_minor": 5
}
